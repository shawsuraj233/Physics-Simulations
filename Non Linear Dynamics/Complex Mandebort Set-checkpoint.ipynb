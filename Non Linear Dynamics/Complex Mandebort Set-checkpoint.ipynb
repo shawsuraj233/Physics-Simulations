{
 "cells": [
  {
   "cell_type": "code",
   "execution_count": 1,
   "id": "9d20a010",
   "metadata": {},
   "outputs": [],
   "source": [
    "import numpy as np\n",
    "import matplotlib.pyplot as plt\n",
    "from plotly.subplots import make_subplots\n",
    "import plotly.subplots as subplots\n",
    "import plotly.graph_objects as go"
   ]
  },
  {
   "cell_type": "code",
   "execution_count": 2,
   "id": "1407249f",
   "metadata": {},
   "outputs": [],
   "source": [
    "xx = np.linspace(-2, 4, 500, dtype='float64')\n",
    "yy = np.linspace(-2, 2, 500, dtype='float64')\n",
    "X, Y = np.meshgrid(xx, yy)\n",
    "#C = X + Y * 1j\n",
    "X1 = np.ravel(X)\n",
    "Y1 = np.ravel(Y)\n",
    "L = list(range(len(X1)))\n",
    "G =  np.empty([1, 3])\n",
    "\n",
    "for k, x,y in zip(L, X1,Y1):\n",
    "    flag = 0\n",
    "    C = x + y*1j\n",
    "    Z1 = np.random.random() + np.random.random()*1j \n",
    "    for i in range(100):\n",
    "        Z1 = C * Z1 * (1 - Z1)\n",
    "        if abs(Z1) > 2:\n",
    "            flag = 1\n",
    "            break\n",
    "    if flag == 0:\n",
    "        G = np.vstack([G, [x, y, Z1.real]])"
   ]
  },
  {
   "cell_type": "code",
   "execution_count": 3,
   "id": "3e3cf5b1",
   "metadata": {},
   "outputs": [
    {
     "name": "stderr",
     "output_type": "stream",
     "text": [
      "Warning: Ignoring XDG_SESSION_TYPE=wayland on Gnome. Use QT_QPA_PLATFORM=wayland to run on Wayland anyway.\n",
      "MESA-LOADER: failed to open iris: /usr/lib/dri/iris_dri.so: cannot open shared object file: No such file or directory (search paths /usr/lib/x86_64-linux-gnu/dri:\\$${ORIGIN}/dri:/usr/lib/dri, suffix _dri)\n",
      "failed to load driver: iris\n",
      "MESA-LOADER: failed to open swrast: /usr/lib/dri/swrast_dri.so: cannot open shared object file: No such file or directory (search paths /usr/lib/x86_64-linux-gnu/dri:\\$${ORIGIN}/dri:/usr/lib/dri, suffix _dri)\n"
     ]
    }
   ],
   "source": [
    "%matplotlib qt\n",
    "fig = plt.figure()\n",
    "plt.subplots_adjust(0.01, 0.01, 0.99, 0.99)\n",
    "ax= fig.add_subplot(projection = '3d')\n",
    "ax.set_box_aspect([2, 1, 1])\n",
    "ax.plot(*G.T, '.', markersize=1)\n",
    "ax.set_zlim([-1, 1])\n",
    "plt.show()"
   ]
  },
  {
   "cell_type": "code",
   "execution_count": 4,
   "id": "855411a1",
   "metadata": {},
   "outputs": [
    {
     "name": "stderr",
     "output_type": "stream",
     "text": [
      "/tmp/ipykernel_5982/2993875475.py:20: RuntimeWarning: overflow encountered in multiply\n",
      "  Z = r * Z * (1 - Z)\n",
      "/tmp/ipykernel_5982/2993875475.py:20: RuntimeWarning: invalid value encountered in multiply\n",
      "  Z = r * Z * (1 - Z)\n"
     ]
    }
   ],
   "source": [
    "import numpy as np\n",
    "import matplotlib.pyplot as plt\n",
    "\n",
    "# Parameters\n",
    "r = 3.9\n",
    "n = 1000\n",
    "iterations = 100\n",
    "\n",
    "# Generate complex grid\n",
    "x = np.linspace(-2, 2, n)\n",
    "y = np.linspace(-2, 2, n)\n",
    "X, Y = np.meshgrid(x, y)\n",
    "Z = X + 1j * Y\n",
    "\n",
    "# Initialize output array for colors\n",
    "colors = np.zeros_like(Z, dtype=int)\n",
    "\n",
    "# Perform iterations of the complex logistic map\n",
    "for i in range(iterations):\n",
    "    Z = r * Z * (1 - Z)\n",
    "    # Calculate magnitudes of Z\n",
    "    magnitudes = np.abs(Z)\n",
    "    # Update colors based on magnitudes\n",
    "    colors[magnitudes > 2] = i\n",
    "\n",
    "# Plot the complex logistic map with color\n",
    "plt.figure(figsize=(8, 8))\n",
    "plt.imshow(colors, cmap='hot', extent=[-2, 2, -2, 2])\n",
    "plt.colorbar(label='Iterations')\n",
    "plt.title('Complex Logistic Map')\n",
    "plt.xlabel('Re(c)')\n",
    "plt.ylabel('Im(c)')\n",
    "plt.show()\n"
   ]
  },
  {
   "cell_type": "code",
   "execution_count": null,
   "id": "66970d7d",
   "metadata": {},
   "outputs": [],
   "source": []
  }
 ],
 "metadata": {
  "kernelspec": {
   "display_name": "Python 3 (ipykernel)",
   "language": "python",
   "name": "python3"
  },
  "language_info": {
   "codemirror_mode": {
    "name": "ipython",
    "version": 3
   },
   "file_extension": ".py",
   "mimetype": "text/x-python",
   "name": "python",
   "nbconvert_exporter": "python",
   "pygments_lexer": "ipython3",
   "version": "3.12.4"
  }
 },
 "nbformat": 4,
 "nbformat_minor": 5
}
